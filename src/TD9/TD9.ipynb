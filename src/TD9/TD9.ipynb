{
 "cells": [
  {
   "cell_type": "markdown",
   "metadata": {},
   "source": [
    "\n",
    "## ENSAE - 2A - Econometrics 1 - TD9 \n"
   ]
  },
  {
   "cell_type": "code",
   "execution_count": 2,
   "metadata": {
    "vscode": {
     "languageId": "r"
    }
   },
   "outputs": [
    {
     "name": "stderr",
     "output_type": "stream",
     "text": [
      "Mise à jour de la liste HTML des packages dans '.Library'\n",
      "\n",
      "Making 'packages.html' ...\n",
      " terminé\n",
      "\n"
     ]
    }
   ],
   "source": [
    "install.packages(\"dplyr\")\n",
    "library(haven)\n",
    "library(dplyr)\n",
    "\n",
    "# Set the working directory\n",
    "#setwd(\"~//Documents/Econo1/TD9/TD9\")\n",
    "data <- read_dta(\"jtpa.dta\")"
   ]
  },
  {
   "cell_type": "markdown",
   "metadata": {},
   "source": [
    "1. Estimate the average eﬀect of the treatment on the compliers : δC = E(Y (1) − Y (0)|C).\n",
    "Does the training given in the JTPA program seem eﬀective ?"
   ]
  },
  {
   "cell_type": "code",
   "execution_count": 3,
   "metadata": {
    "vscode": {
     "languageId": "r"
    }
   },
   "outputs": [
    {
     "data": {
      "text/html": [
       "1848.82897381814"
      ],
      "text/latex": [
       "1848.82897381814"
      ],
      "text/markdown": [
       "1848.82897381814"
      ],
      "text/plain": [
       "[1] 1848.829"
      ]
     },
     "metadata": {},
     "output_type": "display_data"
    }
   ],
   "source": [
    "  \n",
    "means <- data %>%group_by(z) %>%summarise(mu = mean(y, na.rm = TRUE),d_mean = mean(d, na.rm = TRUE))\n",
    "\n",
    "# Extract the means\n",
    "mu1 <- means$mu[means$z == 1]\n",
    "mu0 <- means$mu[means$z == 0]\n",
    "d1 <- means$d_mean[means$z == 1]\n",
    "d0 <- means$d_mean[means$z == 0]\n",
    "\n",
    "# Compute deltac\n",
    "deltac <- (mu1 - mu0) / (d1 - d0)\n",
    "deltac"
   ]
  },
  {
   "cell_type": "markdown",
   "metadata": {},
   "source": [
    "2. Compute the probabilities P (C), P (AT ), and P (N T ) as a function of the distribution of\n",
    "observed variables. Is it possible, in some situations, to reject the hypotheses of monoto-\n",
    "nicity and independence ? Estimate the probabilities for the three groups in the data."
   ]
  },
  {
   "cell_type": "code",
   "execution_count": 4,
   "metadata": {
    "vscode": {
     "languageId": "r"
    }
   },
   "outputs": [
    {
     "name": "stdout",
     "output_type": "stream",
     "text": [
      "[1] 0.01452785\n",
      "[1] 0.3583545\n",
      "[1] 0.6271177\n"
     ]
    }
   ],
   "source": [
    "PAT <- d0\n",
    "PNT <- 1-d1\n",
    "PC <- 1-PAT-PNT\n",
    "\n",
    "print(PAT)\n",
    "print(PNT)\n",
    "print(PC)\n",
    "#PC is positive, so we do not directly reject the monotonicity assumption"
   ]
  },
  {
   "cell_type": "markdown",
   "metadata": {},
   "source": [
    "3. To better know who are the compliers, for some discrete random variable X, we study\n",
    "the quantities g(x) = P (X = x | C)/P (X = x).\n",
    "Under the assumption that Z ⊥⊥ (X, Y (0), Y (1), D(0), D(1)), write g(x) as a function of\n",
    "the distributions of the observed variables (D, Z, X).\n",
    "Estimate g(x) in the following cases : X is the gender, X is the ethnic group, X is the\n",
    "level of education 2, and X is age categories. Comment on the results and describe the\n",
    "population of compliers"
   ]
  },
  {
   "cell_type": "code",
   "execution_count": 5,
   "metadata": {
    "vscode": {
     "languageId": "r"
    }
   },
   "outputs": [
    {
     "name": "stdout",
     "output_type": "stream",
     "text": [
      "[1] 1.020401\n",
      "[1] 0.9753727\n"
     ]
    },
    {
     "data": {
      "text/html": [
       "0.947081126970023"
      ],
      "text/latex": [
       "0.947081126970023"
      ],
      "text/markdown": [
       "0.947081126970023"
      ],
      "text/plain": [
       "[1] 0.9470811"
      ]
     },
     "metadata": {},
     "output_type": "display_data"
    },
    {
     "data": {
      "text/html": [
       "1.09572177557032"
      ],
      "text/latex": [
       "1.09572177557032"
      ],
      "text/markdown": [
       "1.09572177557032"
      ],
      "text/plain": [
       "[1] 1.095722"
      ]
     },
     "metadata": {},
     "output_type": "display_data"
    },
    {
     "data": {
      "text/html": [
       "1.02879816901613"
      ],
      "text/latex": [
       "1.02879816901613"
      ],
      "text/markdown": [
       "1.02879816901613"
      ],
      "text/plain": [
       "[1] 1.028798"
      ]
     },
     "metadata": {},
     "output_type": "display_data"
    },
    {
     "data": {
      "text/html": [
       "1.03189606985254"
      ],
      "text/latex": [
       "1.03189606985254"
      ],
      "text/markdown": [
       "1.03189606985254"
      ],
      "text/plain": [
       "[1] 1.031896"
      ]
     },
     "metadata": {},
     "output_type": "display_data"
    },
    {
     "data": {
      "text/html": [
       "0.985435443478438"
      ],
      "text/latex": [
       "0.985435443478438"
      ],
      "text/markdown": [
       "0.985435443478438"
      ],
      "text/plain": [
       "[1] 0.9854354"
      ]
     },
     "metadata": {},
     "output_type": "display_data"
    },
    {
     "data": {
      "text/html": [
       "1.03401004381338"
      ],
      "text/latex": [
       "1.03401004381338"
      ],
      "text/markdown": [
       "1.03401004381338"
      ],
      "text/plain": [
       "[1] 1.03401"
      ]
     },
     "metadata": {},
     "output_type": "display_data"
    },
    {
     "data": {
      "text/html": [
       "0.968894421453465"
      ],
      "text/latex": [
       "0.968894421453465"
      ],
      "text/markdown": [
       "0.968894421453465"
      ],
      "text/plain": [
       "[1] 0.9688944"
      ]
     },
     "metadata": {},
     "output_type": "display_data"
    },
    {
     "data": {
      "text/html": [
       "0.903946993825083"
      ],
      "text/latex": [
       "0.903946993825083"
      ],
      "text/markdown": [
       "0.903946993825083"
      ],
      "text/plain": [
       "[1] 0.903947"
      ]
     },
     "metadata": {},
     "output_type": "display_data"
    }
   ],
   "source": [
    "########################### Gender ######################################\n",
    "means_sex <- data %>%\n",
    "group_by(z, sex) %>%\n",
    "summarise(mean_d = mean(d, na.rm = TRUE), .groups = \"drop\")\n",
    "\n",
    "# Extract relevant means\n",
    "woman_0 <- means_sex %>% filter(z == 0, sex == 0) %>% pull(mean_d)\n",
    "man_0 <- means_sex %>% filter(z == 0, sex == 1) %>% pull(mean_d)\n",
    "woman_1 <- means_sex %>% filter(z == 1, sex == 0) %>% pull(mean_d)\n",
    "man_1 <- means_sex %>% filter(z == 1, sex == 1) %>% pull(mean_d)\n",
    "\n",
    "# Calculate g_woman and g_man\n",
    "g_woman <- (woman_1 - woman_0) / PC\n",
    "g_man <- (man_1 - man_0) / PC\n",
    "\n",
    "# Display results\n",
    "print(g_woman)\n",
    "print(g_man)\n",
    "\n",
    "########################### Operational function #################################\n",
    "\n",
    "#Function to automatize the computation of g(x)\n",
    "calculate_g <- function(data, group_var, PC) {\n",
    "  # Dynamically group by z and the specified variable\n",
    "  means <- data %>%\n",
    "    group_by(z, !!sym(group_var)) %>%  # Dynamically pass column name\n",
    "    summarise(mean_d = mean(d, na.rm = TRUE), .groups = \"drop\")\n",
    "  \n",
    "  # Extract means for the group_var == 1 case\n",
    "  var_0 <- means %>% filter(z == 0, !!sym(group_var) == 1) %>% pull(mean_d)\n",
    "  var_1 <- means %>% filter(z == 1, !!sym(group_var) == 1) %>% pull(mean_d)\n",
    "  #This function does not work for the case of women, would need to change group_var to 0\n",
    "  \n",
    "  # Compute the scaled difference\n",
    "  g_var <- (var_1 - var_0) / PC\n",
    "  return(g_var)\n",
    "}\n",
    "\n",
    "########################### Ethnicity ######################################\n",
    "\n",
    "calculate_g(data,'black', PC)\n",
    "calculate_g(data,'hispanic', PC)\n",
    "\n",
    "########################### Level of education ######################################\n",
    "\n",
    "calculate_g(data,'hsorged', PC)\n",
    "\n",
    "########################### Age group ######################################\n",
    "\n",
    "calculate_g(data,'age2225', PC)\n",
    "calculate_g(data,'age2629', PC)\n",
    "calculate_g(data,'age3035', PC)\n",
    "calculate_g(data,'age3644', PC)\n",
    "calculate_g(data,'age4554', PC)"
   ]
  },
  {
   "cell_type": "markdown",
   "metadata": {},
   "source": [
    "4. We deﬁne δAT := E(Y (1) − Y (0)|AT ), δT := E(Y (1) − Y (0)|D = 1),\n",
    "and λ := P (C, Z = 1)/[P (C, Z = 1) + P (AT )]. Show the following equality :\n",
    "δT = λδC + (1 − λ)δAT\n",
    "Estimate λ in the data. Explain why it is sensible here to assume that (δT − δC )/δC is\n",
    "close to 0."
   ]
  },
  {
   "cell_type": "code",
   "execution_count": 6,
   "metadata": {
    "vscode": {
     "languageId": "r"
    }
   },
   "outputs": [
    {
     "name": "stdout",
     "output_type": "stream",
     "text": [
      "[1] 0.9664944\n"
     ]
    }
   ],
   "source": [
    "  \n",
    "# Summary statistics for d\n",
    "mean_d <- mean(data$d, na.rm = TRUE)\n",
    "\n",
    "# Calculate lambda\n",
    "lambda <- (mean_d - PAT) / mean_d\n",
    "\n",
    "print(lambda)\n"
   ]
  },
  {
   "cell_type": "markdown",
   "metadata": {},
   "source": [
    "5. "
   ]
  },
  {
   "cell_type": "code",
   "execution_count": 8,
   "metadata": {
    "vscode": {
     "languageId": "r"
    }
   },
   "outputs": [
    {
     "data": {
      "text/html": [
       "<strong>d:</strong> 942.258528713818"
      ],
      "text/latex": [
       "\\textbf{d:} 942.258528713818"
      ],
      "text/markdown": [
       "**d:** 942.258528713818"
      ],
      "text/plain": [
       "       d \n",
       "942.2585 "
      ]
     },
     "metadata": {},
     "output_type": "display_data"
    }
   ],
   "source": [
    "  \n",
    "reg_model <- lm(y ~ d, data = data)\n",
    "betad <- reg_model$coefficients['d']\n",
    "\n",
    "B <- betad - deltac\n",
    "B"
   ]
  }
 ],
 "metadata": {
  "kernelspec": {
   "display_name": "R",
   "language": "R",
   "name": "ir"
  },
  "language_info": {
   "codemirror_mode": "r",
   "file_extension": ".r",
   "mimetype": "text/x-r-source",
   "name": "R",
   "pygments_lexer": "r",
   "version": "4.4.1"
  }
 },
 "nbformat": 4,
 "nbformat_minor": 2
}
