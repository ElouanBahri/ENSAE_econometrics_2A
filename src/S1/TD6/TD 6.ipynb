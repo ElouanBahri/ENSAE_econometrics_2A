{
 "cells": [
  {
   "cell_type": "markdown",
   "metadata": {},
   "source": [
    "# ----------------------- Econometrics 1 - TD 6 --------------------- #"
   ]
  },
  {
   "cell_type": "code",
   "execution_count": 1,
   "metadata": {
    "vscode": {
     "languageId": "r"
    }
   },
   "outputs": [
    {
     "name": "stderr",
     "output_type": "stream",
     "text": [
      "── \u001b[1mAttaching core tidyverse packages\u001b[22m ──────────────────────── tidyverse 2.0.0 ──\n",
      "\u001b[32m✔\u001b[39m \u001b[34mdplyr    \u001b[39m 1.1.4     \u001b[32m✔\u001b[39m \u001b[34mreadr    \u001b[39m 2.1.5\n",
      "\u001b[32m✔\u001b[39m \u001b[34mforcats  \u001b[39m 1.0.0     \u001b[32m✔\u001b[39m \u001b[34mstringr  \u001b[39m 1.5.1\n",
      "\u001b[32m✔\u001b[39m \u001b[34mggplot2  \u001b[39m 3.5.1     \u001b[32m✔\u001b[39m \u001b[34mtibble   \u001b[39m 3.2.1\n",
      "\u001b[32m✔\u001b[39m \u001b[34mlubridate\u001b[39m 1.9.3     \u001b[32m✔\u001b[39m \u001b[34mtidyr    \u001b[39m 1.3.1\n",
      "\u001b[32m✔\u001b[39m \u001b[34mpurrr    \u001b[39m 1.0.2     \n",
      "── \u001b[1mConflicts\u001b[22m ────────────────────────────────────────── tidyverse_conflicts() ──\n",
      "\u001b[31m✖\u001b[39m \u001b[34mdplyr\u001b[39m::\u001b[32mfilter()\u001b[39m masks \u001b[34mstats\u001b[39m::filter()\n",
      "\u001b[31m✖\u001b[39m \u001b[34mdplyr\u001b[39m::\u001b[32mlag()\u001b[39m    masks \u001b[34mstats\u001b[39m::lag()\n",
      "\u001b[36mℹ\u001b[39m Use the conflicted package (\u001b[3m\u001b[34m<http://conflicted.r-lib.org/>\u001b[39m\u001b[23m) to force all conflicts to become errors\n"
     ]
    }
   ],
   "source": [
    "# load necessary libraries\n",
    "library(tidyverse)\n",
    "\n",
    "# clean the environment\n",
    "rm(list=ls())\n",
    "\n",
    "# choose a seed to be able to reproduce the results\n",
    "set.seed(2024)\n",
    "\n",
    "# set the number of observations at 10,000\n",
    "n <- 10000\n",
    "\n",
    "# create an empty dataset to store the observations\n",
    "data <- data.frame(i = 1:n)\n"
   ]
  },
  {
   "cell_type": "markdown",
   "metadata": {},
   "source": [
    "6. Check through simulations (with the parameters µ = (0, 1)′, Σ = identity matrix and\n",
    "c = 1.5) the value of δ in the two models."
   ]
  },
  {
   "cell_type": "code",
   "execution_count": 2,
   "metadata": {
    "vscode": {
     "languageId": "r"
    }
   },
   "outputs": [
    {
     "data": {
      "text/plain": [
       "   Min. 1st Qu.  Median    Mean 3rd Qu.    Max. \n",
       " -3.812   0.024   1.012   1.004   1.965   6.251 "
      ]
     },
     "metadata": {},
     "output_type": "display_data"
    },
    {
     "name": "stdout",
     "output_type": "stream",
     "text": [
      "delta (ATE) : 1.004 \n"
     ]
    }
   ],
   "source": [
    "\n",
    "\n",
    "# Q6. Simulations, delta value (ATE) ----------------------------------\n",
    "\n",
    "## Q6.1. Simulation of potential outcomes ----\n",
    "\n",
    "# Y(0) and Y(1) follow a univariate normal distribution\n",
    "\n",
    "# Y(0) = outcome if not treated - N(0,1)\n",
    "data$Y_0 <- rnorm(n, mean = 0, sd = 1)\n",
    "# Y(1) = outcome if treated - N(1,1)\n",
    "data$Y_1 <- rnorm(n, mean = 1, sd = 1)\n",
    "\n",
    "## Q6.2. Average Treatment Effect (ATE) ----\n",
    "\n",
    "# Delta = Y(1) - Y(0)\n",
    "data <- data %>% mutate(Delta = Y_1 - Y_0)\n",
    "summary(data$Delta)\n",
    "\n",
    "# mean of Delta ATE = E[Y(1) - Y(0)]\n",
    "delta <- mean(data$Delta)\n",
    "cat(\"delta (ATE) :\", round(delta,3), \"\\n\") # 1.004"
   ]
  },
  {
   "cell_type": "markdown",
   "metadata": {},
   "source": [
    "7. Estimate, through simulations again, the values of δT and β0 in Model 2. If time permits,\n",
    "check that your simulations are correct by doing analytical computations."
   ]
  },
  {
   "cell_type": "code",
   "execution_count": 5,
   "metadata": {
    "vscode": {
     "languageId": "r"
    }
   },
   "outputs": [
    {
     "name": "stdout",
     "output_type": "stream",
     "text": [
      "Share of treated individuals: 36.2%\n"
     ]
    },
    {
     "data": {
      "text/plain": [
       "   Min. 1st Qu.  Median    Mean 3rd Qu.    Max. \n",
       "-2.3784  0.1175  0.8692  0.8919  1.6475  4.4809 "
      ]
     },
     "metadata": {},
     "output_type": "display_data"
    },
    {
     "name": "stdout",
     "output_type": "stream",
     "text": [
      "delta_T (ATT) : 2.483 \n",
      "Average outcome of treated: 1.751 \n",
      "Average outcome of non treated: 0.405 \n",
      "beta_D (outcome difference) : 1.346 \n",
      "beta_D (via regression) : 1.346 \n",
      "Selection bias B : -1.137 \n"
     ]
    }
   ],
   "source": [
    "# Q7. Simulations, delta_T (ATT) and beta_D values ------------------\n",
    "\n",
    "## Q7.1. Definition of treatment and outcome variables ----\n",
    "\n",
    "# Model 2: difference in potential outcomes above a threshold (c=1)\n",
    "\n",
    "# define treated individuals: D = 1 if Delta > 1.5\n",
    "data <- data %>% mutate(D = as.numeric(Delta > 1.5))\n",
    "\n",
    "# compute the share of treated individuals\n",
    "cat(\"Share of treated individuals: \", round(mean(data$D) * 100, 1), \"%\\n\", sep=\"\")  # 36.2%\n",
    "\n",
    "# compute the observed outcome : Y = D*Y(1) + (1-D)*Y(0)\n",
    "data <- data %>% mutate(Y = D * Y_1 + (1 - D) * Y_0)\n",
    "summary(data$Y)\n",
    "\n",
    "\n",
    "\n",
    "## Q7.2. Estimations of treatment effect ----\n",
    "\n",
    "# (1) delta_T : Average Treatment Effect on Treated (ATT)\n",
    "delta_T <- mean(data %>% filter(D==1) %>% pull(Delta))\n",
    "cat(\"delta_T (ATT) :\", round(delta_T,3), \"\\n\")  # 2.483 \n",
    "\n",
    "# (2) beta_d : Difference in outcome between treated and non treated\n",
    "# compute the average of the outcome for the treated and for the non treated\n",
    "av_y_treated <- mean(data %>% filter(D==1) %>% pull(Y))\n",
    "av_y_nontreated <- mean(data %>% filter(D==0) %>% pull(Y))  \n",
    "cat(\"Average outcome of treated:\", round(av_y_treated,3), \"\\n\") # 1.751\n",
    "cat(\"Average outcome of non treated:\", round(av_y_nontreated,3), \"\\n\") # 0.405 \n",
    "\n",
    "# compute the difference between the two groups\n",
    "beta_D <- av_y_treated - av_y_nontreated\n",
    "cat(\"beta_D (outcome difference) :\", round(beta_D,3), \"\\n\") # 1.346\n",
    "\n",
    "# alternative method to compute beta_D: with a regression\n",
    "# estimate the coefficient of D in the regression of Y\n",
    "reg <- lm(Y ~ D, data=data)\n",
    "beta_D_reg <- coef(reg)[\"D\"]\n",
    "cat(\"beta_D (via regression) :\", round(beta_D_reg,3), \"\\n\") # 1.346 \n",
    "\n",
    "# (3) selection bias B = beta_D - delta_T\n",
    "B <- beta_D - delta_T\n",
    "cat(\"Selection bias B :\", round(B,3), \"\\n\")  # -1.137"
   ]
  }
 ],
 "metadata": {
  "kernelspec": {
   "display_name": "R",
   "language": "R",
   "name": "ir"
  },
  "language_info": {
   "codemirror_mode": "r",
   "file_extension": ".r",
   "mimetype": "text/x-r-source",
   "name": "R",
   "pygments_lexer": "r",
   "version": "4.4.1"
  }
 },
 "nbformat": 4,
 "nbformat_minor": 2
}
