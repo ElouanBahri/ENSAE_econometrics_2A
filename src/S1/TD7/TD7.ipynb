{
 "cells": [
  {
   "cell_type": "markdown",
   "metadata": {},
   "source": [
    "# ENSAE - 2A - Econometrics 1 - TD7\n",
    "# 28/11/2024\n"
   ]
  },
  {
   "cell_type": "code",
   "execution_count": 1,
   "metadata": {
    "vscode": {
     "languageId": "r"
    }
   },
   "outputs": [
    {
     "name": "stderr",
     "output_type": "stream",
     "text": [
      "\n",
      "Attachement du package : ‘dplyr’\n",
      "\n",
      "\n",
      "Les objets suivants sont masqués depuis ‘package:stats’:\n",
      "\n",
      "    filter, lag\n",
      "\n",
      "\n",
      "Les objets suivants sont masqués depuis ‘package:base’:\n",
      "\n",
      "    intersect, setdiff, setequal, union\n",
      "\n",
      "\n"
     ]
    },
    {
     "data": {
      "text/html": [
       "'/Users/elouan/Repo Github ElouanBahri/ENSAE_econometrics_2A/src/TD7'"
      ],
      "text/latex": [
       "'/Users/elouan/Repo Github ElouanBahri/ENSAE\\_econometrics\\_2A/src/TD7'"
      ],
      "text/markdown": [
       "'/Users/elouan/Repo Github ElouanBahri/ENSAE_econometrics_2A/src/TD7'"
      ],
      "text/plain": [
       "[1] \"/Users/elouan/Repo Github ElouanBahri/ENSAE_econometrics_2A/src/TD7\""
      ]
     },
     "metadata": {},
     "output_type": "display_data"
    }
   ],
   "source": [
    "\n",
    "# Set up ----\n",
    "# Load necessary libraries\n",
    "library(haven)     # For reading Stata files\n",
    "library(dplyr)     # For data manipulation\n",
    "library(estimatr)  # For robust regression\n",
    "library(stats)     # For performing test\n",
    "\n",
    "# Load the data\n",
    "\n",
    "getwd()\n",
    "data <- read_dta('nsw.dta')"
   ]
  },
  {
   "cell_type": "markdown",
   "metadata": {},
   "source": [
    "2. Describe the sample and perform some descriptive statistics"
   ]
  },
  {
   "cell_type": "code",
   "execution_count": 2,
   "metadata": {
    "vscode": {
     "languageId": "r"
    }
   },
   "outputs": [
    {
     "data": {
      "text/plain": [
       "   data_id              treat             age          education    \n",
       " Length:722         Min.   :0.0000   Min.   :17.00   Min.   : 3.00  \n",
       " Class :character   1st Qu.:0.0000   1st Qu.:19.00   1st Qu.: 9.00  \n",
       " Mode  :character   Median :0.0000   Median :23.00   Median :10.00  \n",
       "                    Mean   :0.4114   Mean   :24.52   Mean   :10.27  \n",
       "                    3rd Qu.:1.0000   3rd Qu.:27.00   3rd Qu.:11.00  \n",
       "                    Max.   :1.0000   Max.   :55.00   Max.   :16.00  \n",
       "     black           hispanic         married         nodegree     \n",
       " Min.   :0.0000   Min.   :0.0000   Min.   :0.000   Min.   :0.0000  \n",
       " 1st Qu.:1.0000   1st Qu.:0.0000   1st Qu.:0.000   1st Qu.:1.0000  \n",
       " Median :1.0000   Median :0.0000   Median :0.000   Median :1.0000  \n",
       " Mean   :0.8006   Mean   :0.1053   Mean   :0.162   Mean   :0.7798  \n",
       " 3rd Qu.:1.0000   3rd Qu.:0.0000   3rd Qu.:0.000   3rd Qu.:1.0000  \n",
       " Max.   :1.0000   Max.   :1.0000   Max.   :1.000   Max.   :1.0000  \n",
       "      re75              re78      \n",
       " Min.   :    0.0   Min.   :    0  \n",
       " 1st Qu.:    0.0   1st Qu.:    0  \n",
       " Median :  936.3   Median : 3952  \n",
       " Mean   : 3042.9   Mean   : 5455  \n",
       " 3rd Qu.: 3993.2   3rd Qu.: 8772  \n",
       " Max.   :37431.7   Max.   :60308  "
      ]
     },
     "metadata": {},
     "output_type": "display_data"
    },
    {
     "data": {
      "text/html": [
       "<table class=\"dataframe\">\n",
       "<caption>A tibble: 14 × 4</caption>\n",
       "<thead>\n",
       "\t<tr><th scope=col>education</th><th scope=col>n</th><th scope=col>perc</th><th scope=col>cum</th></tr>\n",
       "\t<tr><th scope=col>&lt;dbl&gt;</th><th scope=col>&lt;int&gt;</th><th scope=col>&lt;dbl&gt;</th><th scope=col>&lt;dbl&gt;</th></tr>\n",
       "</thead>\n",
       "<tbody>\n",
       "\t<tr><td> 3</td><td>  1</td><td>0.001</td><td>0.001</td></tr>\n",
       "\t<tr><td> 4</td><td>  6</td><td>0.008</td><td>0.010</td></tr>\n",
       "\t<tr><td> 5</td><td>  5</td><td>0.007</td><td>0.017</td></tr>\n",
       "\t<tr><td> 6</td><td>  7</td><td>0.010</td><td>0.026</td></tr>\n",
       "\t<tr><td> 7</td><td> 15</td><td>0.021</td><td>0.047</td></tr>\n",
       "\t<tr><td> 8</td><td> 62</td><td>0.086</td><td>0.133</td></tr>\n",
       "\t<tr><td> 9</td><td>110</td><td>0.152</td><td>0.285</td></tr>\n",
       "\t<tr><td>10</td><td>162</td><td>0.224</td><td>0.510</td></tr>\n",
       "\t<tr><td>11</td><td>195</td><td>0.270</td><td>0.780</td></tr>\n",
       "\t<tr><td>12</td><td>122</td><td>0.169</td><td>0.949</td></tr>\n",
       "\t<tr><td>13</td><td> 23</td><td>0.032</td><td>0.981</td></tr>\n",
       "\t<tr><td>14</td><td> 11</td><td>0.015</td><td>0.996</td></tr>\n",
       "\t<tr><td>15</td><td>  2</td><td>0.003</td><td>0.999</td></tr>\n",
       "\t<tr><td>16</td><td>  1</td><td>0.001</td><td>1.000</td></tr>\n",
       "</tbody>\n",
       "</table>\n"
      ],
      "text/latex": [
       "A tibble: 14 × 4\n",
       "\\begin{tabular}{llll}\n",
       " education & n & perc & cum\\\\\n",
       " <dbl> & <int> & <dbl> & <dbl>\\\\\n",
       "\\hline\n",
       "\t  3 &   1 & 0.001 & 0.001\\\\\n",
       "\t  4 &   6 & 0.008 & 0.010\\\\\n",
       "\t  5 &   5 & 0.007 & 0.017\\\\\n",
       "\t  6 &   7 & 0.010 & 0.026\\\\\n",
       "\t  7 &  15 & 0.021 & 0.047\\\\\n",
       "\t  8 &  62 & 0.086 & 0.133\\\\\n",
       "\t  9 & 110 & 0.152 & 0.285\\\\\n",
       "\t 10 & 162 & 0.224 & 0.510\\\\\n",
       "\t 11 & 195 & 0.270 & 0.780\\\\\n",
       "\t 12 & 122 & 0.169 & 0.949\\\\\n",
       "\t 13 &  23 & 0.032 & 0.981\\\\\n",
       "\t 14 &  11 & 0.015 & 0.996\\\\\n",
       "\t 15 &   2 & 0.003 & 0.999\\\\\n",
       "\t 16 &   1 & 0.001 & 1.000\\\\\n",
       "\\end{tabular}\n"
      ],
      "text/markdown": [
       "\n",
       "A tibble: 14 × 4\n",
       "\n",
       "| education &lt;dbl&gt; | n &lt;int&gt; | perc &lt;dbl&gt; | cum &lt;dbl&gt; |\n",
       "|---|---|---|---|\n",
       "|  3 |   1 | 0.001 | 0.001 |\n",
       "|  4 |   6 | 0.008 | 0.010 |\n",
       "|  5 |   5 | 0.007 | 0.017 |\n",
       "|  6 |   7 | 0.010 | 0.026 |\n",
       "|  7 |  15 | 0.021 | 0.047 |\n",
       "|  8 |  62 | 0.086 | 0.133 |\n",
       "|  9 | 110 | 0.152 | 0.285 |\n",
       "| 10 | 162 | 0.224 | 0.510 |\n",
       "| 11 | 195 | 0.270 | 0.780 |\n",
       "| 12 | 122 | 0.169 | 0.949 |\n",
       "| 13 |  23 | 0.032 | 0.981 |\n",
       "| 14 |  11 | 0.015 | 0.996 |\n",
       "| 15 |   2 | 0.003 | 0.999 |\n",
       "| 16 |   1 | 0.001 | 1.000 |\n",
       "\n"
      ],
      "text/plain": [
       "   education n   perc  cum  \n",
       "1   3          1 0.001 0.001\n",
       "2   4          6 0.008 0.010\n",
       "3   5          5 0.007 0.017\n",
       "4   6          7 0.010 0.026\n",
       "5   7         15 0.021 0.047\n",
       "6   8         62 0.086 0.133\n",
       "7   9        110 0.152 0.285\n",
       "8  10        162 0.224 0.510\n",
       "9  11        195 0.270 0.780\n",
       "10 12        122 0.169 0.949\n",
       "11 13         23 0.032 0.981\n",
       "12 14         11 0.015 0.996\n",
       "13 15          2 0.003 0.999\n",
       "14 16          1 0.001 1.000"
      ]
     },
     "metadata": {},
     "output_type": "display_data"
    }
   ],
   "source": [
    "# Q2: Descriptive statistics ----\n",
    "summary(data)\n",
    "data %>% \n",
    "  count(education) %>% \n",
    "  mutate(perc = round(prop.table(n),3),\n",
    "         cum = round(cumsum(prop.table(n)),3))"
   ]
  },
  {
   "cell_type": "markdown",
   "metadata": {},
   "source": [
    "3. Compute Y 1 −Y 0, where we let Y d = ∑\n",
    "i:Di=d Yi/nd and nd denotes the size of the subsam-\n",
    "ple {i : Di = d}. Show, under an assumption to be speciﬁed, that this diﬀerence estimates\n",
    "without bias a causal parameter to be also speciﬁed."
   ]
  },
  {
   "cell_type": "code",
   "execution_count": 3,
   "metadata": {
    "vscode": {
     "languageId": "r"
    }
   },
   "outputs": [
    {
     "data": {
      "text/html": [
       "<table class=\"dataframe\">\n",
       "<caption>A tibble: 2 × 2</caption>\n",
       "<thead>\n",
       "\t<tr><th scope=col>treat</th><th scope=col>mean</th></tr>\n",
       "\t<tr><th scope=col>&lt;dbl&gt;</th><th scope=col>&lt;dbl&gt;</th></tr>\n",
       "</thead>\n",
       "<tbody>\n",
       "\t<tr><td>0</td><td>5090.048</td></tr>\n",
       "\t<tr><td>1</td><td>5976.352</td></tr>\n",
       "</tbody>\n",
       "</table>\n"
      ],
      "text/latex": [
       "A tibble: 2 × 2\n",
       "\\begin{tabular}{ll}\n",
       " treat & mean\\\\\n",
       " <dbl> & <dbl>\\\\\n",
       "\\hline\n",
       "\t 0 & 5090.048\\\\\n",
       "\t 1 & 5976.352\\\\\n",
       "\\end{tabular}\n"
      ],
      "text/markdown": [
       "\n",
       "A tibble: 2 × 2\n",
       "\n",
       "| treat &lt;dbl&gt; | mean &lt;dbl&gt; |\n",
       "|---|---|\n",
       "| 0 | 5090.048 |\n",
       "| 1 | 5976.352 |\n",
       "\n"
      ],
      "text/plain": [
       "  treat mean    \n",
       "1 0     5090.048\n",
       "2 1     5976.352"
      ]
     },
     "metadata": {},
     "output_type": "display_data"
    },
    {
     "data": {
      "text/html": [
       "886.303722451404"
      ],
      "text/latex": [
       "886.303722451404"
      ],
      "text/markdown": [
       "886.303722451404"
      ],
      "text/plain": [
       "[1] 886.3037"
      ]
     },
     "metadata": {},
     "output_type": "display_data"
    }
   ],
   "source": [
    "# Q3: compute Ybar(1) - Ybar(0) ----\n",
    "\n",
    "ybar <- data %>% group_by(treat) %>% summarise(mean = mean(re78))\n",
    "ybar\n",
    "diff_ybar <- filter(ybar, treat == 1)$mean - filter(ybar, treat == 0)$mean\n",
    "diff_ybar"
   ]
  },
  {
   "cell_type": "markdown",
   "metadata": {},
   "source": [
    "4. Perform a regression of Y on D. Was the result on the coefficient expected? Has the\n",
    "treatment a significant effect (at the 5% level) on income?"
   ]
  },
  {
   "cell_type": "code",
   "execution_count": 4,
   "metadata": {
    "vscode": {
     "languageId": "r"
    }
   },
   "outputs": [
    {
     "data": {
      "text/plain": [
       "\n",
       "Call:\n",
       "lm_robust(formula = re78 ~ treat, data = data, se_type = \"stata\")\n",
       "\n",
       "Standard error type:  HC1 \n",
       "\n",
       "Coefficients:\n",
       "            Estimate Std. Error t value  Pr(>|t|) CI Lower CI Upper  DF\n",
       "(Intercept)   5090.0      277.4  18.347 5.599e-62  4545.39     5635 720\n",
       "treat          886.3      488.1   1.816 6.984e-02   -72.04     1845 720\n",
       "\n",
       "Multiple R-squared:  0.004872 ,\tAdjusted R-squared:  0.003489 \n",
       "F-statistic: 3.297 on 1 and 720 DF,  p-value: 0.06984"
      ]
     },
     "metadata": {},
     "output_type": "display_data"
    }
   ],
   "source": [
    "# Q4: Perform a regression of Y on D. Was the result on the coefficient expected? ----\n",
    "\n",
    "model = lm_robust(re78 ~ treat, se_type = \"stata\", data = data)\n",
    "summary(model)\n"
   ]
  },
  {
   "cell_type": "markdown",
   "metadata": {},
   "source": [
    "5. How can we test that the assignment to treatment was indeed made randomly? Perform these tests and comment them. \n"
   ]
  },
  {
   "cell_type": "code",
   "execution_count": 5,
   "metadata": {
    "vscode": {
     "languageId": "r"
    }
   },
   "outputs": [
    {
     "name": "stderr",
     "output_type": "stream",
     "text": [
      "Warning message in ks.test.default(income_control, income_treated):\n",
      "“les valeurs p seront approximées en présence d'ex-aequos”\n"
     ]
    },
    {
     "data": {
      "text/plain": [
       "\n",
       "\tAsymptotic two-sample Kolmogorov-Smirnov test\n",
       "\n",
       "data:  income_control and income_treated\n",
       "D = 0.049071, p-value = 0.7938\n",
       "alternative hypothesis: two-sided\n"
      ]
     },
     "metadata": {},
     "output_type": "display_data"
    },
    {
     "name": "stderr",
     "output_type": "stream",
     "text": [
      "Warning message in ks.test.default(age_treated, age_control):\n",
      "“les valeurs p seront approximées en présence d'ex-aequos”\n"
     ]
    },
    {
     "data": {
      "text/plain": [
       "\n",
       "\tAsymptotic two-sample Kolmogorov-Smirnov test\n",
       "\n",
       "data:  age_treated and age_control\n",
       "D = 0.045855, p-value = 0.8558\n",
       "alternative hypothesis: two-sided\n"
      ]
     },
     "metadata": {},
     "output_type": "display_data"
    },
    {
     "data": {
      "text/plain": [
       "         treat\n",
       "education   0   1\n",
       "       3    1   0\n",
       "       4    2   4\n",
       "       5    2   3\n",
       "       6    5   2\n",
       "       7   11   4\n",
       "       8   36  26\n",
       "       9   66  44\n",
       "       10 105  57\n",
       "       11 118  77\n",
       "       12  61  61\n",
       "       13  12  11\n",
       "       14   6   5\n",
       "       15   0   2\n",
       "       16   0   1"
      ]
     },
     "metadata": {},
     "output_type": "display_data"
    },
    {
     "name": "stderr",
     "output_type": "stream",
     "text": [
      "Warning message in chisq.test(education_treat_table):\n",
      "“L’approximation du Chi-2 est peut-être incorrecte”\n"
     ]
    },
    {
     "data": {
      "text/plain": [
       "\n",
       "\tPearson's Chi-squared test\n",
       "\n",
       "data:  education_treat_table\n",
       "X-squared = 16.227, df = 13, p-value = 0.2371\n"
      ]
     },
     "metadata": {},
     "output_type": "display_data"
    },
    {
     "data": {
      "text/plain": [
       "    treat\n",
       "age   0  1\n",
       "  17 30 22\n",
       "  18 49 26\n",
       "  19 38 25\n",
       "  20 37 21\n",
       "  21 19 21\n",
       "  22 25 17\n",
       "  23 19 22\n",
       "  24 23 14\n",
       "  25 32 24\n",
       "  26 21 14\n",
       "  27 22 25\n",
       "  28 23  8\n",
       "  29 14 10\n",
       "  30  7  5\n",
       "  31 14  8\n",
       "  32  5  2\n",
       "  33  5  5\n",
       "  34  9  2\n",
       "  35  4  3"
      ]
     },
     "metadata": {},
     "output_type": "display_data"
    },
    {
     "name": "stderr",
     "output_type": "stream",
     "text": [
      "Warning message in chisq.test(age_treat_table):\n",
      "“L’approximation du Chi-2 est peut-être incorrecte”\n"
     ]
    },
    {
     "data": {
      "text/plain": [
       "\n",
       "\tPearson's Chi-squared test\n",
       "\n",
       "data:  age_treat_table\n",
       "X-squared = 16.249, df = 18, p-value = 0.5752\n"
      ]
     },
     "metadata": {},
     "output_type": "display_data"
    },
    {
     "name": "stdout",
     "output_type": "stream",
     "text": [
      "\n",
      "Variable: black \n",
      "\n",
      "\tWelch Two Sample t-test\n",
      "\n",
      "data:  control and treated\n",
      "t = -0.04452, df = 637.88, p-value = 0.9645\n",
      "alternative hypothesis: true difference in means is not equal to 0\n",
      "95 percent confidence interval:\n",
      " -0.06075168  0.05805808\n",
      "sample estimates:\n",
      "mean of x mean of y \n",
      "0.8000000 0.8013468 \n",
      "\n",
      "\n",
      "Variable: hispanic \n",
      "\n",
      "\tWelch Two Sample t-test\n",
      "\n",
      "data:  control and treated\n",
      "t = 0.8148, df = 667.06, p-value = 0.4155\n",
      "alternative hypothesis: true difference in means is not equal to 0\n",
      "95 percent confidence interval:\n",
      " -0.02631467  0.06364484\n",
      "sample estimates:\n",
      " mean of x  mean of y \n",
      "0.11294118 0.09427609 \n",
      "\n",
      "\n",
      "Variable: married \n",
      "\n",
      "\tWelch Two Sample t-test\n",
      "\n",
      "data:  control and treated\n",
      "t = -0.38172, df = 626.12, p-value = 0.7028\n",
      "alternative hypothesis: true difference in means is not equal to 0\n",
      "95 percent confidence interval:\n",
      " -0.06576534  0.04435912\n",
      "sample estimates:\n",
      "mean of x mean of y \n",
      "0.1576471 0.1683502 \n",
      "\n",
      "\n",
      "Variable: nodegree \n",
      "\n",
      "\tWelch Two Sample t-test\n",
      "\n",
      "data:  control and treated\n",
      "t = 2.6115, df = 582, p-value = 0.009247\n",
      "alternative hypothesis: true difference in means is not equal to 0\n",
      "95 percent confidence interval:\n",
      " 0.02069612 0.14625971\n",
      "sample estimates:\n",
      "mean of x mean of y \n",
      "0.8141176 0.7306397 \n",
      "\n"
     ]
    },
    {
     "data": {
      "image/png": "[encoded data removed]",
      "text/plain": [
       "plot without title"
      ]
     },
     "metadata": {
      "image/png": {
       "height": 420,
       "width": 420
      }
     },
     "output_type": "display_data"
    }
   ],
   "source": [
    "\n",
    "# Continuous variable: re75 and age --> perform Kolmogorov-Smironov test\n",
    "\n",
    "# For income (re75)\n",
    "# Get re75 distribution by group\n",
    "income_control <- data %>% filter(treat == 0) %>% pull(re75)\n",
    "income_treated <- data %>% filter(treat == 1) %>% pull(re75)\n",
    "\n",
    "# Perform Kolmogorov-Smirnov test for re75 by treat\n",
    "ks_test_re75 <- ks.test(income_control, income_treated)\n",
    "ks_test_re75\n",
    "\n",
    "# Same for age\n",
    "# Get age distribution by group\n",
    "age_control <- data %>% filter(treat == 0) %>% pull(age)\n",
    "age_treated <- data %>% filter(treat == 1) %>% pull(age)\n",
    "\n",
    "# Perform Kolmogorov-Smirnov test for age by treat\n",
    "ks_test_age <- ks.test(age_treated, age_control)\n",
    "ks_test_age\n",
    "\n",
    "# Categorical variable: education and age (age can be both) --> perform chi2 test\n",
    "\n",
    "# For education\n",
    "education_treat_table <- table(education = data$education, treat = data$treat)\n",
    "education_treat_table\n",
    "chi2_test_educ <- chisq.test(education_treat_table)\n",
    "chi2_test_educ\n",
    "\n",
    "# Same for education\n",
    "age_treat_table <- table(age = filter(data, age <= 35)$age, treat = filter(data, age <= 35)$treat)\n",
    "age_treat_table\n",
    "chi2_test_age <- chisq.test(age_treat_table)\n",
    "chi2_test_age\n",
    "\n",
    "# For dummy variables: student test\n",
    "dummy_vars <- c(\"black\", \"hispanic\", \"married\", \"nodegree\")\n",
    "\n",
    "# Loop through each variable and perform t-test\n",
    "t_test_results <- lapply(dummy_vars, function(var) {\n",
    "  # Subset the data by treatment group\n",
    "  control <- data[data$treat == 0, var, drop = TRUE]\n",
    "  treated <- data[data$treat == 1, var, drop = TRUE]\n",
    "  \n",
    "  # Perform t-test assuming unequal variances\n",
    "  t_test <- t.test(control, treated, var.equal = FALSE)\n",
    "  \n",
    "  # Store results in a list\n",
    "  list(variable = var, t_test = t_test)\n",
    "})\n",
    "\n",
    "# Print the results\n",
    "for (result in t_test_results) {\n",
    "  cat(\"\\nVariable:\", result$variable, \"\\n\")\n",
    "  print(result$t_test)\n",
    "}\n",
    "\n",
    "# Optional: plot distribution fort some variables\n",
    "library(tidyr)\n",
    "library(ggplot2)\n",
    "vars_to_plot = c('age', 'education', 're75', 're78')\n",
    "data_long <- data %>%\n",
    "  select(treat, all_of(vars_to_plot)) %>%\n",
    "  pivot_longer(cols = -treat, names_to = \"variable\", values_to = \"value\")\n",
    "\n",
    "# Plot CDFs\n",
    "ggplot(data_long, aes(x = value, color = as.factor(treat))) +\n",
    "  stat_ecdf() +  # Empirical CDF\n",
    "  facet_wrap(~variable, scales = \"free\") +  # One panel per variable\n",
    "  scale_color_manual(values = c(\"blue\", \"red\"), labels = c(\"Control (0)\", \"Treatment (1)\")) +\n",
    "  # coord_cartesian(xlim = c(0, 30000)) +\n",
    "  labs(\n",
    "    x = \"Value\",\n",
    "    y = \"Cumulative Probability\",\n",
    "    color = \"Treatment Status\",\n",
    "    title = \"CDF by Treatment Status for Selected Variables\"\n",
    "  ) +\n",
    "  theme_minimal() +\n",
    "  theme(legend.position = \"bottom\")"
   ]
  },
  {
   "cell_type": "markdown",
   "metadata": {},
   "source": [
    "6. Run a regression of Y on 1975 income and then on nodegree. Comment on the results.\n",
    "Do the results challenge the assumption posited in Question 3 ?"
   ]
  },
  {
   "cell_type": "code",
   "execution_count": 6,
   "metadata": {
    "vscode": {
     "languageId": "r"
    }
   },
   "outputs": [
    {
     "data": {
      "text/plain": [
       "\n",
       "Call:\n",
       "lm_robust(formula = re78 ~ re75, data = data, se_type = \"stata\")\n",
       "\n",
       "Standard error type:  HC1 \n",
       "\n",
       "Coefficients:\n",
       "             Estimate Std. Error t value  Pr(>|t|)  CI Lower  CI Upper  DF\n",
       "(Intercept) 4872.8804  277.46495   17.56 9.776e-58 4.328e+03 5417.6174 720\n",
       "re75           0.1912    0.05707    3.35 8.508e-04 7.914e-02    0.3032 720\n",
       "\n",
       "Multiple R-squared:  0.02399 ,\tAdjusted R-squared:  0.02264 \n",
       "F-statistic: 11.22 on 1 and 720 DF,  p-value: 0.0008508"
      ]
     },
     "metadata": {},
     "output_type": "display_data"
    },
    {
     "data": {
      "text/plain": [
       "\n",
       "Call:\n",
       "lm_robust(formula = re78 ~ nodegree, data = data, se_type = \"stata\")\n",
       "\n",
       "Standard error type:  HC1 \n",
       "\n",
       "Coefficients:\n",
       "            Estimate Std. Error t value  Pr(>|t|) CI Lower CI Upper  DF\n",
       "(Intercept)     6451      551.8  11.692 4.876e-29     5368  7534.53 720\n",
       "nodegree       -1278      607.2  -2.105 3.564e-02    -2470   -86.02 720\n",
       "\n",
       "Multiple R-squared:  0.007185 ,\tAdjusted R-squared:  0.005806 \n",
       "F-statistic: 4.431 on 1 and 720 DF,  p-value: 0.03564"
      ]
     },
     "metadata": {},
     "output_type": "display_data"
    }
   ],
   "source": [
    "# Q6: Run a regression of $Y$ on 1975 income and then on nodegree. ----\n",
    "model2 = lm_robust(re78 ~ re75, se_type = \"stata\", data = data)\n",
    "summary(model2)\n",
    "model3 = lm_robust(re78 ~ nodegree, se_type = \"stata\", data = data)\n",
    "summary(model3)"
   ]
  },
  {
   "cell_type": "markdown",
   "metadata": {},
   "source": [
    "7. Merge the two datasets, the one from LaLonde experimental sample (nsw.dta) and the one\n",
    "from the whole US population (psid_controls.dta). Describe the variables and compute\n",
    "descriptive statistics according to the sample source. What do you remark? Could you\n",
    "argue the LaLonde sample is representative of the whole US population? If not, how would\n",
    "you describe that sample’s characteristics?"
   ]
  },
  {
   "cell_type": "code",
   "execution_count": 7,
   "metadata": {
    "vscode": {
     "languageId": "r"
    }
   },
   "outputs": [
    {
     "data": {
      "text/html": [
       "<table class=\"dataframe\">\n",
       "<caption>A tibble: 2 × 10</caption>\n",
       "<thead>\n",
       "\t<tr><th scope=col>data_id</th><th scope=col>treat</th><th scope=col>age</th><th scope=col>education</th><th scope=col>black</th><th scope=col>hispanic</th><th scope=col>married</th><th scope=col>nodegree</th><th scope=col>re75</th><th scope=col>re78</th></tr>\n",
       "\t<tr><th scope=col>&lt;chr&gt;</th><th scope=col>&lt;dbl&gt;</th><th scope=col>&lt;dbl&gt;</th><th scope=col>&lt;dbl&gt;</th><th scope=col>&lt;dbl&gt;</th><th scope=col>&lt;dbl&gt;</th><th scope=col>&lt;dbl&gt;</th><th scope=col>&lt;dbl&gt;</th><th scope=col>&lt;dbl&gt;</th><th scope=col>&lt;dbl&gt;</th></tr>\n",
       "</thead>\n",
       "<tbody>\n",
       "\t<tr><td>Lalonde Sample</td><td>0.4113573</td><td>24.52078</td><td>10.26731</td><td>0.8005540</td><td>0.10526316</td><td>0.1620499</td><td>0.7797784</td><td> 3042.897</td><td> 5454.636</td></tr>\n",
       "\t<tr><td>PSID          </td><td>0.0000000</td><td>34.85060</td><td>12.11687</td><td>0.2506024</td><td>0.03253012</td><td>0.8662651</td><td>0.3052209</td><td>19063.338</td><td>21553.921</td></tr>\n",
       "</tbody>\n",
       "</table>\n"
      ],
      "text/latex": [
       "A tibble: 2 × 10\n",
       "\\begin{tabular}{llllllllll}\n",
       " data\\_id & treat & age & education & black & hispanic & married & nodegree & re75 & re78\\\\\n",
       " <chr> & <dbl> & <dbl> & <dbl> & <dbl> & <dbl> & <dbl> & <dbl> & <dbl> & <dbl>\\\\\n",
       "\\hline\n",
       "\t Lalonde Sample & 0.4113573 & 24.52078 & 10.26731 & 0.8005540 & 0.10526316 & 0.1620499 & 0.7797784 &  3042.897 &  5454.636\\\\\n",
       "\t PSID           & 0.0000000 & 34.85060 & 12.11687 & 0.2506024 & 0.03253012 & 0.8662651 & 0.3052209 & 19063.338 & 21553.921\\\\\n",
       "\\end{tabular}\n"
      ],
      "text/markdown": [
       "\n",
       "A tibble: 2 × 10\n",
       "\n",
       "| data_id &lt;chr&gt; | treat &lt;dbl&gt; | age &lt;dbl&gt; | education &lt;dbl&gt; | black &lt;dbl&gt; | hispanic &lt;dbl&gt; | married &lt;dbl&gt; | nodegree &lt;dbl&gt; | re75 &lt;dbl&gt; | re78 &lt;dbl&gt; |\n",
       "|---|---|---|---|---|---|---|---|---|---|\n",
       "| Lalonde Sample | 0.4113573 | 24.52078 | 10.26731 | 0.8005540 | 0.10526316 | 0.1620499 | 0.7797784 |  3042.897 |  5454.636 |\n",
       "| PSID           | 0.0000000 | 34.85060 | 12.11687 | 0.2506024 | 0.03253012 | 0.8662651 | 0.3052209 | 19063.338 | 21553.921 |\n",
       "\n"
      ],
      "text/plain": [
       "  data_id        treat     age      education black     hispanic   married  \n",
       "1 Lalonde Sample 0.4113573 24.52078 10.26731  0.8005540 0.10526316 0.1620499\n",
       "2 PSID           0.0000000 34.85060 12.11687  0.2506024 0.03253012 0.8662651\n",
       "  nodegree  re75      re78     \n",
       "1 0.7797784  3042.897  5454.636\n",
       "2 0.3052209 19063.338 21553.921"
      ]
     },
     "metadata": {},
     "output_type": "display_data"
    }
   ],
   "source": [
    "\n",
    "# Load second dataset\n",
    "data2 <- read_dta('psid_controls.dta', col_select = names(data))\n",
    "\n",
    "# Combine (row bind) the two datasets\n",
    "data = rbind(data, data2)\n",
    "\n",
    "# Get mean by dataset for all variables\n",
    "data %>% group_by(data_id) %>% summarise_all(mean)"
   ]
  },
  {
   "cell_type": "markdown",
   "metadata": {},
   "source": [
    "We now drop the control observations from the experimental data (that is, the observations from\n",
    "LaLonde sample that were not treated: the individuals who did not follow the NSWD program).\n",
    "\n",
    "8. With the remaining observations, compute an estimate of the treatment eﬀect using a simple linear regression. What do you ﬁnd? Explain the result."
   ]
  },
  {
   "cell_type": "code",
   "execution_count": 8,
   "metadata": {
    "vscode": {
     "languageId": "r"
    }
   },
   "outputs": [
    {
     "data": {
      "text/plain": [
       "\n",
       "Call:\n",
       "lm_robust(formula = re78 ~ treat, data = data, se_type = \"stata\")\n",
       "\n",
       "Standard error type:  HC1 \n",
       "\n",
       "Coefficients:\n",
       "            Estimate Std. Error t value   Pr(>|t|) CI Lower CI Upper   DF\n",
       "(Intercept)    21554      311.8   69.13  0.000e+00    20943    22165 2785\n",
       "treat         -15578      508.1  -30.66 4.241e-178   -16574   -14581 2785\n",
       "\n",
       "Multiple R-squared:  0.09457 ,\tAdjusted R-squared:  0.09425 \n",
       "F-statistic: 939.9 on 1 and 2785 DF,  p-value: < 2.2e-16"
      ]
     },
     "metadata": {},
     "output_type": "display_data"
    },
    {
     "data": {
      "text/plain": [
       "\n",
       "Call:\n",
       "lm_robust(formula = re78 ~ treat, data = data, se_type = \"stata\")\n",
       "\n",
       "Standard error type:  HC1 \n",
       "\n",
       "Coefficients:\n",
       "            Estimate Std. Error t value  Pr(>|t|) CI Lower CI Upper  DF\n",
       "(Intercept)   5090.0      277.4  18.347 5.599e-62  4545.39     5635 720\n",
       "treat          886.3      488.1   1.816 6.984e-02   -72.04     1845 720\n",
       "\n",
       "Multiple R-squared:  0.004872 ,\tAdjusted R-squared:  0.003489 \n",
       "F-statistic: 3.297 on 1 and 720 DF,  p-value: 0.06984"
      ]
     },
     "metadata": {},
     "output_type": "display_data"
    },
    {
     "name": "stdout",
     "output_type": "stream",
     "text": [
      "\n",
      "Variable: age \n",
      "\n",
      "\tWelch Two Sample t-test\n",
      "\n",
      "data:  group1 and group2\n",
      "t = 23.195, df = 488.3, p-value < 2.2e-16\n",
      "alternative hypothesis: true difference in means is not equal to 0\n",
      "95 percent confidence interval:\n",
      "  9.358228 11.090451\n",
      "sample estimates:\n",
      "mean of x mean of y \n",
      " 34.85060  24.62626 \n",
      "\n",
      "\n",
      "Variable: education \n",
      "\n",
      "\tWelch Two Sample t-test\n",
      "\n",
      "data:  group1 and group2\n",
      "t = 14.206, df = 526.51, p-value < 2.2e-16\n",
      "alternative hypothesis: true difference in means is not equal to 0\n",
      "95 percent confidence interval:\n",
      " 1.496274 1.976518\n",
      "sample estimates:\n",
      "mean of x mean of y \n",
      " 12.11687  10.38047 \n",
      "\n",
      "\n",
      "Variable: black \n",
      "\n",
      "\tWelch Two Sample t-test\n",
      "\n",
      "data:  group1 and group2\n",
      "t = -22.24, df = 383.98, p-value < 2.2e-16\n",
      "alternative hypothesis: true difference in means is not equal to 0\n",
      "95 percent confidence interval:\n",
      " -0.5994344 -0.5020543\n",
      "sample estimates:\n",
      "mean of x mean of y \n",
      "0.2506024 0.8013468 \n",
      "\n",
      "\n",
      "Variable: hispanic \n",
      "\n",
      "\tWelch Two Sample t-test\n",
      "\n",
      "data:  group1 and group2\n",
      "t = -3.5583, df = 322.44, p-value = 0.0004293\n",
      "alternative hypothesis: true difference in means is not equal to 0\n",
      "95 percent confidence interval:\n",
      " -0.09588487 -0.02760708\n",
      "sample estimates:\n",
      " mean of x  mean of y \n",
      "0.03253012 0.09427609 \n",
      "\n",
      "\n",
      "Variable: married \n",
      "\n",
      "\tWelch Two Sample t-test\n",
      "\n",
      "data:  group1 and group2\n",
      "t = 30.619, df = 356.71, p-value < 2.2e-16\n",
      "alternative hypothesis: true difference in means is not equal to 0\n",
      "95 percent confidence interval:\n",
      " 0.6530883 0.7427415\n",
      "sample estimates:\n",
      "mean of x mean of y \n",
      "0.8662651 0.1683502 \n",
      "\n",
      "\n",
      "Variable: nodegree \n",
      "\n",
      "\tWelch Two Sample t-test\n",
      "\n",
      "data:  group1 and group2\n",
      "t = -15.533, df = 375.99, p-value < 2.2e-16\n",
      "alternative hypothesis: true difference in means is not equal to 0\n",
      "95 percent confidence interval:\n",
      " -0.4792710 -0.3715667\n",
      "sample estimates:\n",
      "mean of x mean of y \n",
      "0.3052209 0.7306397 \n",
      "\n",
      "\n",
      "Variable: re75 \n",
      "\n",
      "\tWelch Two Sample t-test\n",
      "\n",
      "data:  group1 and group2\n",
      "t = 40.73, df = 998, p-value < 2.2e-16\n",
      "alternative hypothesis: true difference in means is not equal to 0\n",
      "95 percent confidence interval:\n",
      " 15226.50 16767.98\n",
      "sample estimates:\n",
      "mean of x mean of y \n",
      "19063.338  3066.098 \n",
      "\n"
     ]
    }
   ],
   "source": [
    "# With the remaining observations, compute an estimate of the treatment effect using a simple linear regression.\n",
    "data = data %>% filter(data_id == 'PSID' | (data_id == 'Lalonde Sample' & treat == 1))\n",
    "model4 = lm_robust(re78 ~ treat, se_type = \"stata\", data = data)\n",
    "summary(model4)\n",
    "\n",
    "# Recall estimates on experimental sample only\n",
    "summary(model)\n",
    "\n",
    "# Why the result are so different?\n",
    "variables <- c(\"age\", \"education\", \"black\", \"hispanic\", \"married\", \"nodegree\", \"re75\")\n",
    "\n",
    "# Perform t-test for each variable\n",
    "t_test_results <- lapply(variables, function(var) {\n",
    "  # Extract values for each treatment group\n",
    "  group1 <- data[data$treat == 0, var, drop = TRUE] # control in representative sample\n",
    "  group2 <- data[data$treat == 1, var, drop = TRUE] # treated in experimental sample\n",
    "  \n",
    "  # Perform t-test assuming unequal variances\n",
    "  t_test <- t.test(group1, group2, var.equal = FALSE)\n",
    "  \n",
    "  # Store results in a list\n",
    "  list(variable = var, t_test = t_test)\n",
    "})\n",
    "\n",
    "# Print the results\n",
    "for (result in t_test_results) {\n",
    "  cat(\"\\nVariable:\", result$variable, \"\\n\")\n",
    "  print(result$t_test)\n",
    "}"
   ]
  },
  {
   "cell_type": "markdown",
   "metadata": {},
   "source": [
    "10. Perform such a regression. Comment on the obtained estimates and standard errors. ----"
   ]
  },
  {
   "cell_type": "code",
   "execution_count": 9,
   "metadata": {
    "vscode": {
     "languageId": "r"
    }
   },
   "outputs": [
    {
     "data": {
      "text/plain": [
       "\n",
       "Call:\n",
       "lm_robust(formula = re78 ~ treat + age + education + black + \n",
       "    hispanic + married + nodegree + re75, data = data, se_type = \"stata\")\n",
       "\n",
       "Standard error type:  HC1 \n",
       "\n",
       "Coefficients:\n",
       "              Estimate Std. Error t value   Pr(>|t|)   CI Lower CI Upper   DF\n",
       "(Intercept) -1021.2980  1.941e+03 -0.5261  5.989e-01 -4827.6711 2785.075 2778\n",
       "treat       -1457.9149  6.945e+02 -2.0993  3.588e-02 -2819.6611  -96.169 2778\n",
       "age           -55.3223  2.247e+01 -2.4617  1.389e-02   -99.3884  -11.256 2778\n",
       "education     673.1537  1.256e+02  5.3599  9.010e-08   426.8930  919.414 2778\n",
       "black        -544.1791  4.411e+02 -1.2336  2.174e-01 -1409.1365  320.778 2778\n",
       "hispanic     1912.2274  1.141e+03  1.6763  9.378e-02  -324.5053 4148.960 2778\n",
       "married      1609.0797  5.054e+02  3.1839  1.469e-03   618.1149 2600.044 2778\n",
       "nodegree      584.4034  6.195e+02  0.9434  3.455e-01  -630.2290 1799.036 2778\n",
       "re75            0.7789  2.963e-02 26.2846 3.559e-136     0.7208    0.837 2778\n",
       "\n",
       "Multiple R-squared:  0.5788 ,\tAdjusted R-squared:  0.5776 \n",
       "F-statistic: 270.5 on 8 and 2778 DF,  p-value: < 2.2e-16"
      ]
     },
     "metadata": {},
     "output_type": "display_data"
    }
   ],
   "source": [
    "\n",
    "model5 <- lm_robust(re78 ~ treat + age + education + black + hispanic + married + nodegree + re75,\n",
    "                    se_type = \"stata\", data = data)\n",
    "summary(model5)\n"
   ]
  }
 ],
 "metadata": {
  "kernelspec": {
   "display_name": "R",
   "language": "R",
   "name": "ir"
  },
  "language_info": {
   "codemirror_mode": "r",
   "file_extension": ".r",
   "mimetype": "text/x-r-source",
   "name": "R",
   "pygments_lexer": "r",
   "version": "4.4.1"
  }
 },
 "nbformat": 4,
 "nbformat_minor": 2
}
