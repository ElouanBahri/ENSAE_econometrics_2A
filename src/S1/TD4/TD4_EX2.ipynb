{
 "cells": [
  {
   "cell_type": "markdown",
   "metadata": {},
   "source": [
    "# Econometrics 1 "
   ]
  },
  {
   "cell_type": "markdown",
   "metadata": {},
   "source": [
    "## TD 4 - 17/10/2024"
   ]
  },
  {
   "cell_type": "code",
   "execution_count": 3,
   "metadata": {
    "vscode": {
     "languageId": "r"
    }
   },
   "outputs": [
    {
     "name": "stderr",
     "output_type": "stream",
     "text": [
      "Le chargement a nécessité le package : haven\n",
      "\n",
      "Le chargement a nécessité le package : car\n",
      "\n",
      "Le chargement a nécessité le package : carData\n",
      "\n",
      "Le chargement a nécessité le package : estimatr\n",
      "\n",
      "Le chargement a nécessité le package : lmtest\n",
      "\n",
      "Le chargement a nécessité le package : zoo\n",
      "\n",
      "\n",
      "Attachement du package : ‘zoo’\n",
      "\n",
      "\n",
      "Les objets suivants sont masqués depuis ‘package:base’:\n",
      "\n",
      "    as.Date, as.Date.numeric\n",
      "\n",
      "\n"
     ]
    }
   ],
   "source": [
    "# Install packages\n",
    "if(!require(haven)) install.packages(\"haven\")  \n",
    "if(!require(car)) install.packages(\"car\")\n",
    "if(!require(estimatr)) install.packages(\"estimatr\")  \n",
    "if(!require(lmtest)) install.packages(\"lmtest\")\n",
    "\n",
    "#Load packages\n",
    "library(haven)\n",
    "library(car)\n",
    "library(estimatr)\n",
    "library(lmtest)\n"
   ]
  },
  {
   "cell_type": "markdown",
   "metadata": {},
   "source": [
    "0. Make some basic descriptive statistics to apprehend the database."
   ]
  },
  {
   "cell_type": "code",
   "execution_count": 4,
   "metadata": {
    "vscode": {
     "languageId": "r"
    }
   },
   "outputs": [
    {
     "data": {
      "text/plain": [
       "     price           assess          bdrms          lotsize          sqrft     \n",
       " Min.   :111.0   Min.   :198.7   Min.   :2.000   Min.   : 1000   Min.   :1171  \n",
       " 1st Qu.:230.0   1st Qu.:253.9   1st Qu.:3.000   1st Qu.: 5733   1st Qu.:1660  \n",
       " Median :265.5   Median :290.2   Median :3.000   Median : 6430   Median :1845  \n",
       " Mean   :293.5   Mean   :315.7   Mean   :3.568   Mean   : 9020   Mean   :2014  \n",
       " 3rd Qu.:326.2   3rd Qu.:352.1   3rd Qu.:4.000   3rd Qu.: 8583   3rd Qu.:2227  \n",
       " Max.   :725.0   Max.   :708.6   Max.   :7.000   Max.   :92681   Max.   :3880  \n",
       "    colonial          lprice         lassess         llotsize     \n",
       " Min.   :0.0000   Min.   :4.710   Min.   :5.292   Min.   : 6.908  \n",
       " 1st Qu.:0.0000   1st Qu.:5.438   1st Qu.:5.537   1st Qu.: 8.654  \n",
       " Median :1.0000   Median :5.582   Median :5.671   Median : 8.769  \n",
       " Mean   :0.6932   Mean   :5.633   Mean   :5.718   Mean   : 8.905  \n",
       " 3rd Qu.:1.0000   3rd Qu.:5.788   3rd Qu.:5.864   3rd Qu.: 9.058  \n",
       " Max.   :1.0000   Max.   :6.586   Max.   :6.563   Max.   :11.437  \n",
       "     lsqrft     \n",
       " Min.   :7.066  \n",
       " 1st Qu.:7.415  \n",
       " Median :7.520  \n",
       " Mean   :7.573  \n",
       " 3rd Qu.:7.708  \n",
       " Max.   :8.264  "
      ]
     },
     "metadata": {},
     "output_type": "display_data"
    }
   ],
   "source": [
    "rm(list=ls()) #Clean workspace\n",
    "data <- read_dta(\"hprice1.dta\")\n",
    "\n",
    "\n",
    "####################\n",
    "#### Question 0 ####\n",
    "####################\n",
    "\n",
    "# Some descriptive statistics\n",
    "summary(data)\n"
   ]
  },
  {
   "cell_type": "markdown",
   "metadata": {},
   "source": [
    "First, we would like to know if the assessment (the variable assess in the database) is \"rational\",\n",
    "i.e. faithful to the selling price.\n",
    "\n",
    "1. How can you use a simple linear regression to test that?\n",
    "Hint: Think about (i) a relevant regression, (ii) a suited multiple/joint test. Write formally\n",
    "the null and alternative hypotheses of that test using the matrix R and vector b introduced\n",
    "in Chapter 2.\n",
    "\n",
    "2. Estimate the regression proposed in Question 1 and perform the test. What do you con-\n",
    "clude? Perform the corresponding simple bilateral tests (Student t-tests). What do you\n",
    "remark? Is there any problem here?"
   ]
  },
  {
   "cell_type": "code",
   "execution_count": 5,
   "metadata": {
    "vscode": {
     "languageId": "r"
    }
   },
   "outputs": [
    {
     "data": {
      "text/plain": [
       "               Estimate  Std. Error    t value    Pr(>|t|)    CI Lower\n",
       "(Intercept) -14.4717880 20.61722468 -0.7019271 4.84620e-01 -55.4574742\n",
       "assess        0.9755538  0.06797519 14.3516157 1.51747e-24   0.8404236\n",
       "             CI Upper DF\n",
       "(Intercept) 26.513898 86\n",
       "assess       1.110684 86"
      ]
     },
     "metadata": {},
     "output_type": "display_data"
    },
    {
     "data": {
      "text/html": [
       "<table class=\"dataframe\">\n",
       "<caption>A anova: 1 × 4</caption>\n",
       "<thead>\n",
       "\t<tr><th></th><th scope=col>Res.Df</th><th scope=col>Df</th><th scope=col>F</th><th scope=col>Pr(&gt;F)</th></tr>\n",
       "\t<tr><th></th><th scope=col>&lt;dbl&gt;</th><th scope=col>&lt;dbl&gt;</th><th scope=col>&lt;dbl&gt;</th><th scope=col>&lt;dbl&gt;</th></tr>\n",
       "</thead>\n",
       "<tbody>\n",
       "\t<tr><th scope=row>2</th><td>86</td><td>2</td><td>11.79016</td><td>2.984919e-05</td></tr>\n",
       "</tbody>\n",
       "</table>\n"
      ],
      "text/latex": [
       "A anova: 1 × 4\n",
       "\\begin{tabular}{r|llll}\n",
       "  & Res.Df & Df & F & Pr(>F)\\\\\n",
       "  & <dbl> & <dbl> & <dbl> & <dbl>\\\\\n",
       "\\hline\n",
       "\t2 & 86 & 2 & 11.79016 & 2.984919e-05\\\\\n",
       "\\end{tabular}\n"
      ],
      "text/markdown": [
       "\n",
       "A anova: 1 × 4\n",
       "\n",
       "| <!--/--> | Res.Df &lt;dbl&gt; | Df &lt;dbl&gt; | F &lt;dbl&gt; | Pr(&gt;F) &lt;dbl&gt; |\n",
       "|---|---|---|---|---|\n",
       "| 2 | 86 | 2 | 11.79016 | 2.984919e-05 |\n",
       "\n"
      ],
      "text/plain": [
       "  Res.Df Df F        Pr(>F)      \n",
       "2 86     2  11.79016 2.984919e-05"
      ]
     },
     "metadata": {},
     "output_type": "display_data"
    },
    {
     "data": {
      "text/html": [
       "<table class=\"dataframe\">\n",
       "<caption>A anova: 1 × 4</caption>\n",
       "<thead>\n",
       "\t<tr><th></th><th scope=col>Res.Df</th><th scope=col>Df</th><th scope=col>F</th><th scope=col>Pr(&gt;F)</th></tr>\n",
       "\t<tr><th></th><th scope=col>&lt;dbl&gt;</th><th scope=col>&lt;dbl&gt;</th><th scope=col>&lt;dbl&gt;</th><th scope=col>&lt;dbl&gt;</th></tr>\n",
       "</thead>\n",
       "<tbody>\n",
       "\t<tr><th scope=row>2</th><td>86</td><td>1</td><td>0.4927016</td><td>0.48462</td></tr>\n",
       "</tbody>\n",
       "</table>\n"
      ],
      "text/latex": [
       "A anova: 1 × 4\n",
       "\\begin{tabular}{r|llll}\n",
       "  & Res.Df & Df & F & Pr(>F)\\\\\n",
       "  & <dbl> & <dbl> & <dbl> & <dbl>\\\\\n",
       "\\hline\n",
       "\t2 & 86 & 1 & 0.4927016 & 0.48462\\\\\n",
       "\\end{tabular}\n"
      ],
      "text/markdown": [
       "\n",
       "A anova: 1 × 4\n",
       "\n",
       "| <!--/--> | Res.Df &lt;dbl&gt; | Df &lt;dbl&gt; | F &lt;dbl&gt; | Pr(&gt;F) &lt;dbl&gt; |\n",
       "|---|---|---|---|---|\n",
       "| 2 | 86 | 1 | 0.4927016 | 0.48462 |\n",
       "\n"
      ],
      "text/plain": [
       "  Res.Df Df F         Pr(>F) \n",
       "2 86     1  0.4927016 0.48462"
      ]
     },
     "metadata": {},
     "output_type": "display_data"
    },
    {
     "data": {
      "text/html": [
       "<table class=\"dataframe\">\n",
       "<caption>A anova: 1 × 4</caption>\n",
       "<thead>\n",
       "\t<tr><th></th><th scope=col>Res.Df</th><th scope=col>Df</th><th scope=col>F</th><th scope=col>Pr(&gt;F)</th></tr>\n",
       "\t<tr><th></th><th scope=col>&lt;dbl&gt;</th><th scope=col>&lt;dbl&gt;</th><th scope=col>&lt;dbl&gt;</th><th scope=col>&lt;dbl&gt;</th></tr>\n",
       "</thead>\n",
       "<tbody>\n",
       "\t<tr><th scope=row>2</th><td>86</td><td>1</td><td>0.1293362</td><td>0.7200029</td></tr>\n",
       "</tbody>\n",
       "</table>\n"
      ],
      "text/latex": [
       "A anova: 1 × 4\n",
       "\\begin{tabular}{r|llll}\n",
       "  & Res.Df & Df & F & Pr(>F)\\\\\n",
       "  & <dbl> & <dbl> & <dbl> & <dbl>\\\\\n",
       "\\hline\n",
       "\t2 & 86 & 1 & 0.1293362 & 0.7200029\\\\\n",
       "\\end{tabular}\n"
      ],
      "text/markdown": [
       "\n",
       "A anova: 1 × 4\n",
       "\n",
       "| <!--/--> | Res.Df &lt;dbl&gt; | Df &lt;dbl&gt; | F &lt;dbl&gt; | Pr(&gt;F) &lt;dbl&gt; |\n",
       "|---|---|---|---|---|\n",
       "| 2 | 86 | 1 | 0.1293362 | 0.7200029 |\n",
       "\n"
      ],
      "text/plain": [
       "  Res.Df Df F         Pr(>F)   \n",
       "2 86     1  0.1293362 0.7200029"
      ]
     },
     "metadata": {},
     "output_type": "display_data"
    }
   ],
   "source": [
    "####################\n",
    "#### Question 2 ####\n",
    "####################\n",
    "\n",
    "reg1 = lm_robust(price ~ assess, data = data , se_type = \"stata\")\n",
    "reg1\n",
    "\n",
    "# Perform a joint test: Beta_0 = 0 and Beta_1 = 1:\n",
    "R = diag(2)\n",
    "b = c(0,1)\n",
    "lht(reg1, hypothesis.matrix = R, rhs = b, test = \"F\")[2,]\n",
    "\n",
    "\n",
    "# => We do reject the hypothesis at levels 1%,5%,10 % > 2.985e-05\n",
    "\n",
    "# Test that the coefficient of the constant is 0:\n",
    "R = c(1,0)\n",
    "b = 0\n",
    "lht(reg1, hypothesis.matrix = R, rhs = b, test = \"F\")[2,]\n",
    "\n",
    "# And that the coefficient of the slope is 1:\n",
    "R = c(0,1) \n",
    "b = 1 \n",
    "lht(reg1, hypothesis.matrix = R, rhs = b, test = \"F\")[2,]"
   ]
  },
  {
   "cell_type": "markdown",
   "metadata": {},
   "source": [
    "3. We consider the multiple linear regression of the logarithm of the house price on the area\n",
    "of the house and the number of bedrooms. Estimate that regression. What is the eﬀect of\n",
    "adding a bedroom of 150 square feet on the price?"
   ]
  },
  {
   "cell_type": "code",
   "execution_count": 6,
   "metadata": {
    "vscode": {
     "languageId": "r"
    }
   },
   "outputs": [
    {
     "data": {
      "text/plain": [
       "               Estimate   Std. Error    t value     Pr(>|t|)      CI Lower\n",
       "(Intercept) 4.766027333 9.255927e-02 51.4916263 7.292921e-66  4.5819947070\n",
       "sqrft       0.000379446 5.123428e-05  7.4060965 8.737438e-11  0.0002775785\n",
       "bdrms       0.028884442 3.191088e-02  0.9051597 3.679393e-01 -0.0345629323\n",
       "                CI Upper DF\n",
       "(Intercept) 4.9500599584 85\n",
       "sqrft       0.0004813135 85\n",
       "bdrms       0.0923318163 85"
      ]
     },
     "metadata": {},
     "output_type": "display_data"
    },
    {
     "data": {
      "text/html": [
       "0.0858013417066619"
      ],
      "text/latex": [
       "0.0858013417066619"
      ],
      "text/markdown": [
       "0.0858013417066619"
      ],
      "text/plain": [
       "[1] 0.08580134"
      ]
     },
     "metadata": {},
     "output_type": "display_data"
    }
   ],
   "source": [
    "####################\n",
    "#### Question 3 ####\n",
    "####################\n",
    "\n",
    "# Regress lprice on sqrft and bdrms:\n",
    "reg2 = lm_robust(lprice ~sqrft + bdrms, data=data, se_type = \"stata\")\n",
    "reg2\n",
    "# Effects of exogeneous changes:\n",
    "as.double(c(0,150,1) %*% reg2$coefficients) # Remember the model is log - level."
   ]
  },
  {
   "cell_type": "markdown",
   "metadata": {},
   "source": [
    "4. Propose a new regression that allows estimating the previous eﬀect of adding a bedroom\n",
    "of 150 square feet on the price directly. Construct a 95%-level conﬁdence interval on that\n",
    "eﬀect.\n",
    "2\n"
   ]
  },
  {
   "cell_type": "code",
   "execution_count": 7,
   "metadata": {
    "vscode": {
     "languageId": "r"
    }
   },
   "outputs": [
    {
     "data": {
      "text/plain": [
       "               Estimate   Std. Error   t value     Pr(>|t|)     CI Lower\n",
       "(Intercept) 4.766027333 9.255927e-02 51.491626 7.292921e-66 4.5819947070\n",
       "sqrft150b   0.000379446 5.123428e-05  7.406097 8.737438e-11 0.0002775785\n",
       "bdrms       0.085801342 2.774194e-02  3.092839 2.682170e-03 0.0306429399\n",
       "                CI Upper DF\n",
       "(Intercept) 4.9500599584 85\n",
       "sqrft150b   0.0004813135 85\n",
       "bdrms       0.1409597435 85"
      ]
     },
     "metadata": {},
     "output_type": "display_data"
    },
    {
     "data": {
      "text/html": [
       "<strong>bdrms:</strong> 0.085801341706661"
      ],
      "text/latex": [
       "\\textbf{bdrms:} 0.085801341706661"
      ],
      "text/markdown": [
       "**bdrms:** 0.085801341706661"
      ],
      "text/plain": [
       "     bdrms \n",
       "0.08580134 "
      ]
     },
     "metadata": {},
     "output_type": "display_data"
    },
    {
     "data": {
      "text/html": [
       "<style>\n",
       ".dl-inline {width: auto; margin:0; padding: 0}\n",
       ".dl-inline>dt, .dl-inline>dd {float: none; width: auto; display: inline-block}\n",
       ".dl-inline>dt::after {content: \":\\0020\"; padding-right: .5ex}\n",
       ".dl-inline>dt:not(:first-of-type) {padding-left: .5ex}\n",
       "</style><dl class=dl-inline><dt>low_bound.bdrms</dt><dd>0.0306429399192814</dd><dt>high_bound.bdrms</dt><dd>0.140959743494041</dd></dl>\n"
      ],
      "text/latex": [
       "\\begin{description*}\n",
       "\\item[low\\textbackslash{}\\_bound.bdrms] 0.0306429399192814\n",
       "\\item[high\\textbackslash{}\\_bound.bdrms] 0.140959743494041\n",
       "\\end{description*}\n"
      ],
      "text/markdown": [
       "low_bound.bdrms\n",
       ":   0.0306429399192814high_bound.bdrms\n",
       ":   0.140959743494041\n",
       "\n"
      ],
      "text/plain": [
       " low_bound.bdrms high_bound.bdrms \n",
       "      0.03064294       0.14095974 "
      ]
     },
     "metadata": {},
     "output_type": "display_data"
    }
   ],
   "source": [
    "####################\n",
    "#### Question 4 ####\n",
    "####################\n",
    "\n",
    "# Another method to get a confidence interval on the effect directly:\n",
    "# 4.1 - Create the new variable:\n",
    "data$sqrft150b =   data$sqrft - 150 * data$bdrms\n",
    "# 4.2 - Run the regression:\n",
    "reg3 = lm_robust(lprice~sqrft150b + bdrms, data = data, se_type = \"stata\")\n",
    "reg3\n",
    "# 4.3 - Get the coefficient and its interval on the variable bdrms:\n",
    "reg3$coefficients[3]\n",
    "# The confidence interval is:\n",
    "c('low_bound' = reg3$conf.low[3], 'high_bound' = reg3$conf.high[3])\n",
    "\n"
   ]
  }
 ],
 "metadata": {
  "kernelspec": {
   "display_name": "R",
   "language": "R",
   "name": "ir"
  },
  "language_info": {
   "codemirror_mode": "r",
   "file_extension": ".r",
   "mimetype": "text/x-r-source",
   "name": "R",
   "pygments_lexer": "r",
   "version": "4.4.1"
  }
 },
 "nbformat": 4,
 "nbformat_minor": 2
}
